{
 "cells": [
  {
   "cell_type": "markdown",
   "metadata": {},
   "source": [
    "# Web Search 2018 - Phase 2"
   ]
  },
  {
   "cell_type": "markdown",
   "metadata": {},
   "source": [
    "### <a name=\"head11\"></a> Code Imports"
   ]
  },
  {
   "cell_type": "code",
   "execution_count": 1,
   "metadata": {},
   "outputs": [
    {
     "name": "stderr",
     "output_type": "stream",
     "text": [
      "Using TensorFlow backend.\n"
     ]
    },
    {
     "name": "stdout",
     "output_type": "stream",
     "text": [
      "/Users/franciscorodrigues/Projects/PW/pw_phase3/project changing to: /Users/franciscorodrigues/Projects/PW/pw_phase3/project/../\n",
      "/Users/franciscorodrigues/Projects/PW/pw_phase3\n",
      "[nltk_data] Downloading package wordnet to\n",
      "[nltk_data]     /Users/franciscorodrigues/nltk_data...\n",
      "[nltk_data]   Package wordnet is already up-to-date!\n"
     ]
    }
   ],
   "source": [
    "from tokenizer import tokenizer\n",
    "from sklearn.feature_extraction.text import CountVectorizer\n",
    "from sklearn.metrics.pairwise import euclidean_distances\n",
    "import matplotlib.pyplot as plt\n",
    "import numpy as np\n",
    "from numpy import linalg as LA\n",
    "import pandas as pd\n",
    "from skimage.feature import hog\n",
    "from skimage.color import rgb2gray\n",
    "from skimage.io import imread\n",
    "from sklearn.preprocessing import normalize\n",
    "from skimage import color\n",
    "from skimage import data, exposure\n",
    "from sklearn.metrics import precision_recall_fscore_support as score\n",
    "import matplotlib.pyplot as plt\n",
    "import sys\n",
    "import random\n",
    "from numpy.random import shuffle\n",
    "from sklearn.preprocessing import MultiLabelBinarizer\n",
    "from sklearn.metrics import classification_report\n",
    "from skimage import img_as_ubyte\n",
    "import warnings\n",
    "import os\n",
    "import time\n",
    "from keras.applications.vgg16 import VGG16\n",
    "from keras.applications.vgg16 import preprocess_input, decode_predictions\n",
    "from keras.preprocessing import image\n",
    "warnings.filterwarnings('ignore')\n",
    "\n",
    "print(os.getcwd(), \"changing to:\", os.getcwd()+\"/../\")\n",
    "\n",
    "# Change this according to the path where you have the ws_toolkit\n",
    "ws_toolkit_path = os.getcwd()+\"/..\"\n",
    "\n",
    "os.chdir(ws_toolkit_path)\n",
    "print(os.getcwd())\n",
    "from ws_toolkit.utils import center_crop_image, k_neighbours, hoc, init_bow, process_images_keras"
   ]
  },
  {
   "cell_type": "markdown",
   "metadata": {},
   "source": [
    "### Global Variables"
   ]
  },
  {
   "cell_type": "code",
   "execution_count": 2,
   "metadata": {},
   "outputs": [],
   "source": [
    "# Cached arrays\n",
    "croppedImages = []\n",
    "X_HOC = None\n",
    "X_HOG = None\n",
    "X_BOW = None\n",
    "X_CNN = None\n",
    "CNN_PREDICTIONS = []"
   ]
  },
  {
   "cell_type": "markdown",
   "metadata": {},
   "source": [
    "### Features"
   ]
  },
  {
   "cell_type": "code",
   "execution_count": 3,
   "metadata": {},
   "outputs": [],
   "source": [
    "def computeFeatures():\n",
    "    pixels_per_cell = (32, 32)\n",
    "    orientations = 8\n",
    "    \n",
    "    bins = (4,4,4)\n",
    "    hsv = True\n",
    "    \n",
    "    _lemmatize=False\n",
    "    _mdf=3\n",
    "    _metric=\"cosine\"\n",
    "    _k=10\n",
    "    _handles=False\n",
    "    _hashes=False\n",
    "    _case=False\n",
    "    _url=False\n",
    "    \n",
    "    return features_hog(croppedImages, pixels_per_cell, orientations), getColorMatrix(croppedImages, bins, hsv), execute_bow(tweets, _lemmatize, _mdf, _metric, _k, _handles, _hashes, _case, _url), getTagsBow(imageLinks)"
   ]
  },
  {
   "cell_type": "markdown",
   "metadata": {},
   "source": [
    "# Pre-Processing"
   ]
  },
  {
   "cell_type": "code",
   "execution_count": 4,
   "metadata": {},
   "outputs": [],
   "source": [
    "# Read dataset .csv\n",
    "df = pd.read_csv(\"./visualstories_edfest_2016_twitter_xmedia.csv\",\n",
    "                 sep=';', encoding=\"utf-8\")\n",
    "\n",
    "data = np.array([df.get(\"text\").values, df.get(\n",
    "    \"image-url\").values, df.get(\"gt_class\").values])\n",
    "# This are the text of the tweets\n",
    "tweets = data[0]\n",
    "# This are the links of the images of the tweets (ex: C0zsADasd213.jpg)\n",
    "imageLinks = [i.replace('https://pbs.twimg.com/media/', '') for i in data[1]]\n",
    "# This are the arrays of the data of each cropped image\n",
    "targets = [list(map(int, c.replace(' ', '').split(\",\"))) for c in data[2]]\n",
    "# Save cropped images in cache\n",
    "croppedImages = cropImageList(croppedImages, imageLinks)"
   ]
  },
  {
   "cell_type": "markdown",
   "metadata": {},
   "source": [
    "# Compute Cached Features Spaces"
   ]
  },
  {
   "cell_type": "code",
   "execution_count": 5,
   "metadata": {},
   "outputs": [
    {
     "name": "stdout",
     "output_type": "stream",
     "text": [
      "Processed Images finished: 39.90178823471069\n",
      "No Cached Predictions\n",
      "Model Predictions finished: 822.3856117725372\n"
     ]
    }
   ],
   "source": [
    "# Cache features\n",
    "X_HOG, X_HOC, X_BOW, X_CNN, CNN_PREDICTIONS = computeFeatures()"
   ]
  },
  {
   "cell_type": "markdown",
   "metadata": {},
   "source": [
    "# Iterative Label Propagation Implementation"
   ]
  },
  {
   "cell_type": "code",
   "execution_count": 6,
   "metadata": {},
   "outputs": [],
   "source": [
    "def runAlg(mlb, images, y, y_true, features, weights, selection, topk, threshold, alpha, iterations, params=None, mf = False, indices_unlabeled=[]):\n",
    "\n",
    "    # Step 2 - Normalize Y and Initialize matrix F with Y\n",
    "    Y_hidden = normalize(y, axis = 1, norm=\"l1\")\n",
    "    F = Y_hidden\n",
    "    #print(F[indices_labeled[0],:])\n",
    "    \n",
    "    # Step 3 - Compute matrix W (multi feature -mf true; or single feature -mf false)\n",
    "    W = []\n",
    "    if mf is True:\n",
    "        M = None\n",
    "        for i in range(len(features)):\n",
    "            M = weights[i]*euclidean_distances(features[i], features[i])\n",
    "        #M = weights[0]*euclidean_distances(feature[0], feature[0]) + weights[1]*euclidean_distances(feature[1], feature[1])\n",
    "    else:\n",
    "        M = euclidean_distances(features[0], features[0])\n",
    "        \n",
    "    sigma = np.std(M)\n",
    "    W = np.exp(-1 * M / (2*sigma**2))\n",
    "\n",
    "    # Step 4 - Normalize W\n",
    "    D = np.zeros(W.shape)\n",
    "    np.fill_diagonal(D, W.sum(axis=0))\n",
    "\n",
    "    D12 = np.zeros(D.shape)\n",
    "    from numpy.linalg import inv\n",
    "    D12 = inv(np.sqrt(D))\n",
    "\n",
    "    S = np.dot(D12, W)\n",
    "    S = np.dot(S, D12)\n",
    "\n",
    "    # Step 5 - Perform the F update step num_iterations steps\n",
    "    for i in range(1, iterations):\n",
    "        T1 = alpha * S\n",
    "        T1 = np.dot(T1, F)\n",
    "        T2 =  (1 - alpha) * Y_hidden\n",
    "        F = T1 + T2\n",
    "        #Normalizar para F (verficar segmentos)\n",
    "        F = normalize(F, axis = 1, norm=\"l1\")\n",
    "        \n",
    "    print(\"Indice unlabeled: {}\\nNormalized F: {}\".format(indices_unlabeled[0], F[indices_unlabeled[0],:]))\n",
    "    # Select top k classes\n",
    "    if selection is True:\n",
    "        F = np.fliplr(np.argsort(F, axis=1))\n",
    "        F = F[:,:topk]\n",
    "        Y = mlb.transform(F)\n",
    "    else:\n",
    "        T = []\n",
    "        for row in F:\n",
    "            T.append([i for i, v in enumerate(row) if v >= threshold])\n",
    "        Y = mlb.transform(T)\n",
    "    return Y"
   ]
  },
  {
   "cell_type": "code",
   "execution_count": 7,
   "metadata": {},
   "outputs": [],
   "source": [
    "def runAll(iterations, p, features, weights, alpha, selection, topk, threshold, mf):\n",
    "    #Choose a random number between 1 and 100 to shuffle to prevent biased results\n",
    "    rand_seed = random.randint(1,100)\n",
    "    indices = np.arange(len(tweets))\n",
    "    np.random.seed(rand_seed)\n",
    "    shuffle(indices)\n",
    "\n",
    "    X = tweets\n",
    "    np.random.seed(rand_seed)\n",
    "    shuffle(X)\n",
    "\n",
    "    y_target = targets\n",
    "    np.random.seed(rand_seed)\n",
    "    shuffle(y_target)\n",
    "\n",
    "    total_images = X.shape[0]\n",
    "\n",
    "    # Let's assume that 20% of the dataset is labeled\n",
    "    labeled_set_size = int(total_images*p)\n",
    "\n",
    "    indices_labeled = indices[:labeled_set_size]\n",
    "    indices_unlabeled = indices[labeled_set_size:]\n",
    "    \n",
    "    print(\" \")\n",
    "    print(\"Iteration: {} - Total tweets labeled: {} - Total tweets unlabeled: {}\".format(iterations,\n",
    "        len(indices_labeled), len(indices_unlabeled)))\n",
    "\n",
    "    # Convert labels to a one-hot-encoded vector\n",
    "    # Keep groundtruth labels\n",
    "    classes = [0, 1, 2, 3, 4, 5, 6, 7, 8, 9, 10, 11, 12]\n",
    "    # print(classes)\n",
    "    mlb = MultiLabelBinarizer(classes=classes)\n",
    "    #print(y_target[:1])\n",
    "    Y_true = mlb.fit_transform(y_target)\n",
    "    Y = mlb.transform(y_target)\n",
    "    #print(Y[:1])\n",
    "    # Remove labels of \"unlabeled\" data \n",
    "    Y[indices_unlabeled, :] = np.zeros(Y.shape[1])\n",
    "    \n",
    "    # Run Algorithm and Get Results\n",
    "    Y = runAlg(mlb, croppedImages, Y, Y_true, features=features, weights=weights, selection=selection, topk=topk, threshold=threshold,\n",
    "            alpha=alpha, iterations=iterations, mf=mf, indices_unlabeled=indices_unlabeled)\n",
    "\n",
    "    Y_pred = Y[indices_unlabeled, :]\n",
    "    y_gt = Y_true[indices_unlabeled, :]\n",
    "   \n",
    "    print(\"Ground Truth: {}\".format(Y_true[indices_unlabeled[0],:]))\n",
    "    print(\"Predicted:    {}\".format(Y[indices_unlabeled[0],:]))\n",
    "    \n",
    "    return Y_pred, y_gt"
   ]
  },
  {
   "cell_type": "markdown",
   "metadata": {},
   "source": [
    "# Evaluation\n",
    "Evaluate the results of each run of the Iterative LP."
   ]
  },
  {
   "cell_type": "code",
   "execution_count": 8,
   "metadata": {},
   "outputs": [
    {
     "name": "stdout",
     "output_type": "stream",
     "text": [
      " \n",
      "Iteration: 10 - Total tweets labeled: 1400 - Total tweets unlabeled: 600\n",
      "Indice unlabeled: 1853\n",
      "Normalized F: [0.05392712 0.04351556 0.07330423 0.06150986 0.06148425 0.00066022\n",
      " 0.19040611 0.02047336 0.20414633 0.04922115 0.03686037 0.00039123\n",
      " 0.20410021]\n",
      "Ground Truth: [1 0 0 0 0 0 0 0 0 1 0 0 0]\n",
      "Predicted:    [1 0 1 1 1 0 1 0 1 0 0 0 1]\n",
      " \n",
      "Iteration: 60 - Total tweets labeled: 1400 - Total tweets unlabeled: 600\n",
      "Indice unlabeled: 793\n",
      "Normalized F: [0.18209959 0.12155998 0.00252016 0.04161738 0.18117151 0.04179605\n",
      " 0.1278546  0.00113986 0.1259913  0.10338852 0.00419126 0.00100172\n",
      " 0.06566806]\n",
      "Ground Truth: [0 0 0 0 0 0 0 1 1 0 0 0 0]\n",
      "Predicted:    [1 1 0 0 1 0 1 0 1 1 0 0 1]\n",
      " \n",
      "Iteration: 110 - Total tweets labeled: 1400 - Total tweets unlabeled: 600\n",
      "Indice unlabeled: 970\n",
      "Normalized F: [5.16144725e-05 1.16880430e-02 3.92100527e-02 1.79329641e-01\n",
      " 2.76853905e-02 2.02567608e-02 2.77825052e-01 1.15713805e-05\n",
      " 1.66479449e-01 4.95082735e-02 9.13892925e-02 2.90688773e-02\n",
      " 1.07495982e-01]\n",
      "Ground Truth: [0 0 0 0 0 0 1 0 0 0 0 0 0]\n",
      "Predicted:    [0 0 0 1 0 0 1 0 1 0 1 0 1]\n",
      " \n",
      "Iteration: 160 - Total tweets labeled: 1400 - Total tweets unlabeled: 600\n",
      "Indice unlabeled: 488\n",
      "Normalized F: [2.04404225e-03 4.95889137e-04 7.45296125e-04 1.61179028e-05\n",
      " 4.98186662e-04 3.77654987e-04 9.83030798e-01 4.92907363e-04\n",
      " 5.44743025e-03 8.69265509e-04 3.66913293e-03 2.83854811e-04\n",
      " 2.02942378e-03]\n",
      "Ground Truth: [0 1 0 0 0 0 0 0 0 1 1 0 0]\n",
      "Predicted:    [0 0 0 0 0 0 1 0 0 0 0 0 0]\n",
      " \n",
      "Iteration: 210 - Total tweets labeled: 1400 - Total tweets unlabeled: 600\n",
      "Indice unlabeled: 918\n",
      "Normalized F: [7.26107423e-04 1.23236560e-01 2.47691466e-01 4.39678454e-04\n",
      " 2.98447698e-04 7.93960058e-04 2.41700758e-03 2.42588375e-04\n",
      " 1.87873753e-03 1.24856463e-01 1.26044748e-01 1.23312388e-01\n",
      " 2.48061847e-01]\n",
      "Ground Truth: [0 0 0 0 0 1 0 0 0 1 1 0 1]\n",
      "Predicted:    [0 1 1 0 0 0 0 0 0 1 1 1 1]\n",
      " \n",
      "Iteration: 260 - Total tweets labeled: 1400 - Total tweets unlabeled: 600\n",
      "Indice unlabeled: 554\n",
      "Normalized F: [0.19230542 0.03831949 0.00165789 0.01616843 0.00196521 0.0888427\n",
      " 0.00471509 0.06625673 0.39451574 0.0830078  0.02393298 0.00045286\n",
      " 0.08785966]\n",
      "Ground Truth: [1 1 0 0 0 0 0 0 1 1 1 0 1]\n",
      "Predicted:    [1 0 0 0 0 1 0 1 1 1 0 0 1]\n",
      " \n",
      "Iteration: 310 - Total tweets labeled: 1400 - Total tweets unlabeled: 600\n",
      "Indice unlabeled: 1285\n",
      "Normalized F: [0.06662238 0.02199606 0.0577445  0.10666625 0.04082684 0.03575955\n",
      " 0.127103   0.01766563 0.15616242 0.08434665 0.11420265 0.02846033\n",
      " 0.14244375]\n",
      "Ground Truth: [0 0 0 1 0 0 0 0 0 0 0 0 0]\n",
      "Predicted:    [1 0 1 1 0 0 1 0 1 1 1 0 1]\n",
      " \n",
      "Iteration: 360 - Total tweets labeled: 1400 - Total tweets unlabeled: 600\n",
      "Indice unlabeled: 166\n",
      "Normalized F: [4.22470265e-10 4.78349748e-16 1.66666666e-01 8.16476086e-18\n",
      " 1.52368858e-16 9.67703163e-14 9.02749879e-16 1.66666666e-01\n",
      " 3.33333333e-01 2.57048177e-16 9.70963160e-14 1.26708451e-09\n",
      " 3.33333333e-01]\n",
      "Ground Truth: [0 0 1 0 0 1 0 0 1 0 0 0 0]\n",
      "Predicted:    [0 0 1 0 0 0 0 1 1 0 0 0 1]\n",
      " \n",
      "Iteration: 410 - Total tweets labeled: 1400 - Total tweets unlabeled: 600\n",
      "Indice unlabeled: 1059\n",
      "Normalized F: [2.48710285e-04 4.46241524e-04 3.55912163e-01 5.77012475e-04\n",
      " 2.68172577e-04 2.06832350e-04 7.12419833e-02 2.57580596e-04\n",
      " 1.06932280e-01 4.99531973e-04 9.69790124e-04 3.14942685e-04\n",
      " 4.62124759e-01]\n",
      "Ground Truth: [0 0 0 0 0 0 1 0 0 0 0 0 0]\n",
      "Predicted:    [0 0 1 0 0 0 1 0 1 0 0 0 1]\n",
      " \n",
      "Iteration: 460 - Total tweets labeled: 1400 - Total tweets unlabeled: 600\n",
      "Indice unlabeled: 945\n",
      "Normalized F: [5.82207612e-02 6.12232915e-04 2.62016129e-02 1.14440832e-01\n",
      " 5.97176711e-04 3.85530859e-02 1.53258235e-01 5.08327696e-02\n",
      " 3.31099238e-01 2.01299310e-02 9.62420952e-02 2.15333828e-04\n",
      " 1.09596696e-01]\n",
      "Ground Truth: [0 0 0 0 0 0 0 0 0 0 1 0 0]\n",
      "Predicted:    [1 0 0 1 0 0 1 1 1 0 1 0 1]\n",
      "\n",
      "Results List:    \n",
      "[[0.16720844 0.36441688 0.22779477        nan]\n",
      " [0.17541158 0.36177758 0.23204815        nan]\n",
      " [0.17217082 0.3738828  0.23433537        nan]\n",
      " [0.18072376 0.37411812 0.24088487        nan]\n",
      " [0.15526171 0.37187219 0.21757592        nan]\n",
      " [0.16962684 0.38156972 0.23292936        nan]\n",
      " [0.17531124 0.37472357 0.23789133        nan]\n",
      " [0.16528608 0.38518774 0.22950026        nan]\n",
      " [0.16599118 0.37739701 0.22899893        nan]\n",
      " [0.16244694 0.367096   0.22418424        nan]]\n",
      "\n",
      "Results Report:  \n",
      "             precision    recall  f1-score   support\n",
      "\n",
      "          0       0.18      0.37      0.24       108\n",
      "          1       0.05      0.15      0.07        41\n",
      "          2       0.10      0.28      0.15        78\n",
      "          3       0.07      0.23      0.11        40\n",
      "          4       0.10      0.24      0.14        67\n",
      "          5       0.12      0.26      0.17        62\n",
      "          6       0.19      0.54      0.29       108\n",
      "          7       0.09      0.19      0.12        42\n",
      "          8       0.41      0.76      0.53       241\n",
      "          9       0.17      0.39      0.24       114\n",
      "         10       0.21      0.50      0.29       120\n",
      "         11       0.07      0.16      0.10        31\n",
      "         12       0.34      0.71      0.46       206\n",
      "\n",
      "avg / total       0.23      0.49      0.31      1258\n",
      "\n",
      "\n",
      "Results Graph:   \n",
      "\n"
     ]
    },
    {
     "data": {
      "image/png": "[encoded data removed]",
      "text/plain": [
       "<Figure size 432x288 with 1 Axes>"
      ]
     },
     "metadata": {
      "needs_background": "light"
     },
     "output_type": "display_data"
    }
   ],
   "source": [
    "results = np.zeros((10,4))\n",
    "range_iterations = range(10,500,50)\n",
    "j = 0\n",
    "\n",
    "# Variable params\n",
    "p=0.7\n",
    "features=[X_CNN] # Possible X_HOG, X_HOG, X_BOW, X_CNN -> If mf=False use only one feature inside the array\n",
    "weights=[0.4, 0.6] # Sum must be one - and must always be filled even if mf=False\n",
    "alpha=0.2\n",
    "selection=False # False - Top K | True - Threshold\n",
    "topk=3\n",
    "threshold=0.05\n",
    "mf=True\n",
    "\n",
    "for i in range_iterations:\n",
    "    Y_pred, y_gt = runAll(i, p, features, weights, alpha, selection, topk, threshold, mf)\n",
    "    precision, recall, fscore, support = score(y_gt, Y_pred, average='macro')\n",
    "    results[j] = [precision, recall, fscore, support]\n",
    "    j = j+1\n",
    "\n",
    "from sklearn.metrics import classification_report\n",
    "np.set_printoptions(threshold=np.nan)\n",
    "\n",
    "print(\"\\nResults List:    \\n{}\".format(results))\n",
    "print(\"\\nResults Report:  \\n{}\".format(classification_report(y_gt, Y_pred)))\n",
    "\n",
    "print(\"\\nResults Graph:   \\n\")\n",
    "\n",
    "colors = ['r', 'b', 'g']\n",
    "labels = ['precision', 'recall', 'f-score']\n",
    "\n",
    "for i in range(3):\n",
    "    plt.plot(range_iterations, results[:,i], colors[i], label=labels[i])\n",
    "plt.xlabel(\"Iterations\")\n",
    "plt.ylabel(\"Values\")\n",
    "plt.legend(loc='best')\n",
    "plt.show()\n",
    "#plt.plot(range_iterations, results[:,0], 'r', range_iterations, results[:,1], 'b', range_iterations, results[:,2], 'g')"
   ]
  }
 ],
 "metadata": {
  "kernelspec": {
   "display_name": "Python 3",
   "language": "python",
   "name": "python3"
  },
  "language_info": {
   "codemirror_mode": {
    "name": "ipython",
    "version": 3
   },
   "file_extension": ".py",
   "mimetype": "text/x-python",
   "name": "python",
   "nbconvert_exporter": "python",
   "pygments_lexer": "ipython3",
   "version": "3.6.6"
  }
 },
 "nbformat": 4,
 "nbformat_minor": 2
}
